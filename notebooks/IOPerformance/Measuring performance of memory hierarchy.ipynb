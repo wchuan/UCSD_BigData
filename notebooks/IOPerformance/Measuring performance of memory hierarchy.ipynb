{
 "metadata": {
  "name": "",
  "signature": "sha256:479389bd906448904449e78206101e307283eb29e0df71453b2b42ca14822923"
 },
 "nbformat": 3,
 "nbformat_minor": 0,
 "worksheets": [
  {
   "cells": [
    {
     "cell_type": "code",
     "collapsed": false,
     "input": [
      "import time\n",
      "def measureRandomAccess(size,filename='',k=100000):\n",
      "    \"\"\" Measure the distribution of random accesses in computer memory.\n",
      "    size=size of memory block.\n",
      "    filename= a file that is used as an external buffer. If filename=='' then everything is done in memory.\n",
      "    k = number of times that the experiment is repeated.\n",
      "    output:\n",
      "    mean = the mean of T\n",
      "    std = the std of T\n",
      "    T = a list the contains the times of all k experiments\n",
      "    \"\"\"\n",
      "    # Prepare buffer.\n",
      "    if filename == '':\n",
      "        inmem=True\n",
      "        A=bytearray(size)\n",
      "    else:\n",
      "        inmem=False\n",
      "        file=open(filename,'r+')\n",
      "        \n",
      "    # Read and write k times from/to buffer.\n",
      "    sum=0; sum2=0\n",
      "    T=np.zeros(k)\n",
      "    for i in range(k):\n",
      "        t=time.time()\n",
      "        loc=int(rand()*size)\n",
      "        if inmem:\n",
      "            x=A[loc:loc+4]\n",
      "            A[loc]=(i % 256)\n",
      "        else:\n",
      "            file.seek(loc)\n",
      "            poke=file.read(1)\n",
      "            file.write(\"test\")\n",
      "        d=time.time()-t\n",
      "        T[i]=d\n",
      "        sum += d\n",
      "        sum2 += d*d\n",
      "    mean=sum/k; var=(sum2/k)-mean**2; std=sqrt(var)\n",
      "    return (mean,std,T)"
     ],
     "language": "python",
     "metadata": {},
     "outputs": [],
     "prompt_number": 1
    },
    {
     "cell_type": "code",
     "collapsed": false,
     "input": [
      "from matplotlib.backends.backend_pdf import PdfPages\n",
      "from scipy.special import erf,erfinv\n",
      "\n",
      "def PlotTime(Tsorted,Mean,Std,Color='b',LS='-',Legend=''):\n",
      "    P=arange(1,0,-1.0/k)    # probability \n",
      "    loglog(Tsorted,P,color=Color,label=Legend,linestyle=LS)                 # plot log-log of 1-CDF \n",
      "    \n",
      "    grid()\n",
      "    loglog([Mean,Mean],[1,0.0001],color=Color,linestyle=LS)           # vert line at mean\n",
      "    Y=0.1**((m_i+1.)/2.)\n",
      "    loglog([Mean,min(Mean+Std,1)],[Y,Y],color=Color,linestyle=LS) # horiz line from mean to mean + std\n",
      "        \n",
      "    x=arange(Mean,Mean+Std*erfinv(1.0-1.0/len(Tsorted)),Std/100)  # normal distribution \n",
      "    loglog(x,1-erf((x-Mean)/Std),color=Color,linestyle=LS)"
     ],
     "language": "python",
     "metadata": {},
     "outputs": [],
     "prompt_number": 2
    },
    {
     "cell_type": "code",
     "collapsed": false,
     "input": [
      "n=1000000 # size of single block (1MB)\n",
      "m_list=[1,10,100,1000,10000] # size of file in blocks\n",
      "m=None\n",
      "k=100000;\n",
      "L=len(m_list)\n",
      "#print 'n=%d, m=%d,k=%d, m_list=' % (n,m,k),m_list\n",
      "\n",
      "def create_file(n,m,filename='DataBlock'):\n",
      "    t1=time.time()\n",
      "    A=bytearray(n)\n",
      "    t2=time.time()\n",
      "    file=open(filename,'w')\n",
      "    for i in range(m):\n",
      "        file.write(A)\n",
      "        if i % 100 == 0:\n",
      "            print i,\",\",\n",
      "    file.close()\n",
      "    t3=time.time()\n",
      "    print '\\ncreating %d byte block: %f, writing %d blocks %f' % (n,t2-t1,m,t3-t2)\n",
      "    return (t2-t1,t3-t2)\n",
      "\n",
      "\n",
      "mean=zeros([2,L])   #0: using disk, 1: using memory\n",
      "std=zeros([2,L])\n",
      "T=zeros([2,L,k])\n",
      "\n",
      "for m_i in range(len(m_list)):\n",
      "    \n",
      "    m=m_list[m_i]\n",
      "    print '\\n---------------------------- m=',m,'-----------------------------'\n",
      "    (t_mem,t_disk) = create_file(n,m,filename='BlockData'+str(m))\n",
      "\n",
      "    (mean[0,m_i],std[0,m_i],T[0,m_i]) = measureRandomAccess(n*m,filename='BlockData'+str(m),k=k)\n",
      "    print 'file mean=',mean[0,m_i],'file std=',std[0,m_i]    \n",
      "    (mean[1,m_i],std[1,m_i],T[1,m_i]) = measureRandomAccess(n*m,k=k)\n",
      "    print 'mem mean=',mean[1,m_i],'mem std=',std[1,m_i]\n",
      "    \n",
      "pp = PdfPages('MemoryLog.pdf')\n",
      "figure(figsize=(6,4))\n",
      "\n",
      "Colors='bgrcmyk'  # The colors for the plot\n",
      "LineStyles=['-',':']\n",
      "Legends=['F','M']\n",
      "\n",
      "fig = matplotlib.pyplot.gcf()\n",
      "fig.set_size_inches(18.5,10.5)\n",
      "\n",
      "for m_i in range(len(m_list)):\n",
      "    Color=Colors[m_i % len(Colors)]\n",
      "    for Type in [0,1]:\n",
      "        PlotTime(sort(T[Type,m_i]),mean[Type,m_i],std[Type,m_i],\n",
      "                 Color=Color,LS=LineStyles[Type],Legend=('%dMB-' % m_list[m_i])+Legends[Type])\n",
      "\n",
      "grid()\n",
      "legend(fontsize='medium')\n",
      "xlabel('delay (sec)')\n",
      "ylabel('1-CDF')\n",
      "pp.savefig()\n",
      "pp.close()"
     ],
     "language": "python",
     "metadata": {},
     "outputs": [
      {
       "output_type": "stream",
       "stream": "stdout",
       "text": [
        "\n",
        "---------------------------- m= 1 -----------------------------\n",
        "0 , \n",
        "creating 1000000 byte block: 0.000386, writing 1 blocks 0.001572\n",
        "file mean="
       ]
      },
      {
       "output_type": "stream",
       "stream": "stdout",
       "text": [
        " 6.04953765869e-06 file std= 1.73311033106e-05\n",
        "mem mean="
       ]
      },
      {
       "output_type": "stream",
       "stream": "stdout",
       "text": [
        " 1.18669509888e-06 mem std= 1.23299447933e-06\n",
        "\n",
        "---------------------------- m= 10 -----------------------------\n",
        "0 , \n",
        "creating 1000000 byte block: 0.000038, writing 10 blocks 0.017451\n",
        "file mean="
       ]
      },
      {
       "output_type": "stream",
       "stream": "stdout",
       "text": [
        " 6.36008501053e-06 file std= 3.87497463682e-05\n",
        "mem mean="
       ]
      },
      {
       "output_type": "stream",
       "stream": "stdout",
       "text": [
        " 1.17763519287e-06 mem std= 8.80764274034e-07\n",
        "\n",
        "---------------------------- m= 100 -----------------------------\n",
        "0 , "
       ]
      },
      {
       "output_type": "stream",
       "stream": "stdout",
       "text": [
        "\n",
        "creating 1000000 byte block: 0.000040, writing 100 blocks 0.245976\n",
        "file mean="
       ]
      },
      {
       "output_type": "stream",
       "stream": "stdout",
       "text": [
        " 6.72218322754e-06 file std= 4.7567611943e-05\n",
        "mem mean="
       ]
      },
      {
       "output_type": "stream",
       "stream": "stdout",
       "text": [
        " 1.17784976959e-06 mem std= 5.64867460934e-07\n",
        "\n",
        "---------------------------- m= 1000 -----------------------------\n",
        "0 , "
       ]
      },
      {
       "output_type": "stream",
       "stream": "stdout",
       "text": [
        "100 , "
       ]
      },
      {
       "output_type": "stream",
       "stream": "stdout",
       "text": [
        "200 , "
       ]
      },
      {
       "output_type": "stream",
       "stream": "stdout",
       "text": [
        "300 , "
       ]
      },
      {
       "output_type": "stream",
       "stream": "stdout",
       "text": [
        "400 , "
       ]
      },
      {
       "output_type": "stream",
       "stream": "stdout",
       "text": [
        "500 , "
       ]
      },
      {
       "output_type": "stream",
       "stream": "stdout",
       "text": [
        "600 , "
       ]
      },
      {
       "output_type": "stream",
       "stream": "stdout",
       "text": [
        "700 , "
       ]
      },
      {
       "output_type": "stream",
       "stream": "stdout",
       "text": [
        "800 , "
       ]
      },
      {
       "output_type": "stream",
       "stream": "stdout",
       "text": [
        "900 , "
       ]
      },
      {
       "output_type": "stream",
       "stream": "stdout",
       "text": [
        "\n",
        "creating 1000000 byte block: 0.000040, writing 1000 blocks 3.082759\n",
        "file mean="
       ]
      },
      {
       "output_type": "stream",
       "stream": "stdout",
       "text": [
        " 2.57795548439e-05 file std= 8.10163046972e-05\n",
        "mem mean="
       ]
      },
      {
       "output_type": "stream",
       "stream": "stdout",
       "text": [
        " 1.24244689941e-06 mem std= 5.88720821324e-07\n",
        "\n",
        "---------------------------- m= 10000 -----------------------------\n",
        "0 , "
       ]
      },
      {
       "output_type": "stream",
       "stream": "stdout",
       "text": [
        "100 , "
       ]
      },
      {
       "output_type": "stream",
       "stream": "stdout",
       "text": [
        "200 , "
       ]
      },
      {
       "output_type": "stream",
       "stream": "stdout",
       "text": [
        "300 , "
       ]
      },
      {
       "output_type": "stream",
       "stream": "stdout",
       "text": [
        "400 , "
       ]
      },
      {
       "output_type": "stream",
       "stream": "stdout",
       "text": [
        "500 , "
       ]
      },
      {
       "output_type": "stream",
       "stream": "stdout",
       "text": [
        "600 , "
       ]
      },
      {
       "output_type": "stream",
       "stream": "stdout",
       "text": [
        "700 , "
       ]
      },
      {
       "output_type": "stream",
       "stream": "stdout",
       "text": [
        "800 , "
       ]
      },
      {
       "output_type": "stream",
       "stream": "stdout",
       "text": [
        "900 , "
       ]
      },
      {
       "output_type": "stream",
       "stream": "stdout",
       "text": [
        "1000 , "
       ]
      },
      {
       "output_type": "stream",
       "stream": "stdout",
       "text": [
        "1100 , "
       ]
      },
      {
       "output_type": "stream",
       "stream": "stdout",
       "text": [
        "1200 , "
       ]
      },
      {
       "output_type": "stream",
       "stream": "stdout",
       "text": [
        "1300 , "
       ]
      },
      {
       "output_type": "stream",
       "stream": "stdout",
       "text": [
        "1400 , "
       ]
      },
      {
       "output_type": "stream",
       "stream": "stdout",
       "text": [
        "1500 , "
       ]
      },
      {
       "output_type": "stream",
       "stream": "stdout",
       "text": [
        "1600 , "
       ]
      },
      {
       "output_type": "stream",
       "stream": "stdout",
       "text": [
        "1700 , "
       ]
      },
      {
       "output_type": "stream",
       "stream": "stdout",
       "text": [
        "1800 , "
       ]
      },
      {
       "output_type": "stream",
       "stream": "stdout",
       "text": [
        "1900 , "
       ]
      },
      {
       "output_type": "stream",
       "stream": "stdout",
       "text": [
        "2000 , "
       ]
      },
      {
       "output_type": "stream",
       "stream": "stdout",
       "text": [
        "2100 , "
       ]
      },
      {
       "output_type": "stream",
       "stream": "stdout",
       "text": [
        "2200 , "
       ]
      },
      {
       "output_type": "stream",
       "stream": "stdout",
       "text": [
        "2300 , "
       ]
      },
      {
       "output_type": "stream",
       "stream": "stdout",
       "text": [
        "2400 , "
       ]
      },
      {
       "output_type": "stream",
       "stream": "stdout",
       "text": [
        "2500 , "
       ]
      },
      {
       "output_type": "stream",
       "stream": "stdout",
       "text": [
        "2600 , "
       ]
      },
      {
       "output_type": "stream",
       "stream": "stdout",
       "text": [
        "2700 , "
       ]
      },
      {
       "output_type": "stream",
       "stream": "stdout",
       "text": [
        "2800 , "
       ]
      },
      {
       "output_type": "stream",
       "stream": "stdout",
       "text": [
        "2900 , "
       ]
      },
      {
       "output_type": "stream",
       "stream": "stdout",
       "text": [
        "3000 , "
       ]
      },
      {
       "output_type": "stream",
       "stream": "stdout",
       "text": [
        "3100 , "
       ]
      },
      {
       "output_type": "stream",
       "stream": "stdout",
       "text": [
        "3200 , "
       ]
      },
      {
       "output_type": "stream",
       "stream": "stdout",
       "text": [
        "3300 , "
       ]
      },
      {
       "output_type": "stream",
       "stream": "stdout",
       "text": [
        "3400 , "
       ]
      },
      {
       "output_type": "stream",
       "stream": "stdout",
       "text": [
        "3500 , "
       ]
      },
      {
       "output_type": "stream",
       "stream": "stdout",
       "text": [
        "3600 , "
       ]
      },
      {
       "output_type": "stream",
       "stream": "stdout",
       "text": [
        "3700 , "
       ]
      },
      {
       "output_type": "stream",
       "stream": "stdout",
       "text": [
        "3800 , "
       ]
      },
      {
       "output_type": "stream",
       "stream": "stdout",
       "text": [
        "3900 , "
       ]
      },
      {
       "output_type": "stream",
       "stream": "stdout",
       "text": [
        "4000 , "
       ]
      },
      {
       "output_type": "stream",
       "stream": "stdout",
       "text": [
        "4100 , "
       ]
      },
      {
       "output_type": "stream",
       "stream": "stdout",
       "text": [
        "4200 , "
       ]
      },
      {
       "output_type": "stream",
       "stream": "stdout",
       "text": [
        "4300 , "
       ]
      },
      {
       "output_type": "stream",
       "stream": "stdout",
       "text": [
        "4400 , "
       ]
      },
      {
       "output_type": "stream",
       "stream": "stdout",
       "text": [
        "4500 , "
       ]
      },
      {
       "output_type": "stream",
       "stream": "stdout",
       "text": [
        "4600 , "
       ]
      },
      {
       "output_type": "stream",
       "stream": "stdout",
       "text": [
        "4700 , "
       ]
      },
      {
       "output_type": "stream",
       "stream": "stdout",
       "text": [
        "4800 , "
       ]
      },
      {
       "output_type": "stream",
       "stream": "stdout",
       "text": [
        "4900 , "
       ]
      },
      {
       "output_type": "stream",
       "stream": "stdout",
       "text": [
        "5000 , "
       ]
      },
      {
       "output_type": "stream",
       "stream": "stdout",
       "text": [
        "5100 , "
       ]
      },
      {
       "output_type": "stream",
       "stream": "stdout",
       "text": [
        "5200 , "
       ]
      },
      {
       "output_type": "stream",
       "stream": "stdout",
       "text": [
        "5300 , "
       ]
      },
      {
       "output_type": "stream",
       "stream": "stdout",
       "text": [
        "5400 , "
       ]
      },
      {
       "output_type": "stream",
       "stream": "stdout",
       "text": [
        "5500 , "
       ]
      },
      {
       "output_type": "stream",
       "stream": "stdout",
       "text": [
        "5600 , "
       ]
      },
      {
       "output_type": "stream",
       "stream": "stdout",
       "text": [
        "5700 , "
       ]
      },
      {
       "output_type": "stream",
       "stream": "stdout",
       "text": [
        "5800 , "
       ]
      },
      {
       "output_type": "stream",
       "stream": "stdout",
       "text": [
        "5900 , "
       ]
      },
      {
       "output_type": "stream",
       "stream": "stdout",
       "text": [
        "6000 , "
       ]
      },
      {
       "output_type": "stream",
       "stream": "stdout",
       "text": [
        "6100 , "
       ]
      },
      {
       "output_type": "stream",
       "stream": "stdout",
       "text": [
        "6200 , "
       ]
      },
      {
       "output_type": "stream",
       "stream": "stdout",
       "text": [
        "6300 , "
       ]
      },
      {
       "output_type": "stream",
       "stream": "stdout",
       "text": [
        "6400 , "
       ]
      },
      {
       "output_type": "stream",
       "stream": "stdout",
       "text": [
        "6500 , "
       ]
      },
      {
       "output_type": "stream",
       "stream": "stdout",
       "text": [
        "6600 , "
       ]
      },
      {
       "output_type": "stream",
       "stream": "stdout",
       "text": [
        "6700 , "
       ]
      },
      {
       "output_type": "stream",
       "stream": "stdout",
       "text": [
        "6800 , "
       ]
      },
      {
       "output_type": "stream",
       "stream": "stdout",
       "text": [
        "6900 , "
       ]
      },
      {
       "output_type": "stream",
       "stream": "stdout",
       "text": [
        "7000 , "
       ]
      },
      {
       "output_type": "stream",
       "stream": "stdout",
       "text": [
        "7100 , "
       ]
      },
      {
       "output_type": "stream",
       "stream": "stdout",
       "text": [
        "7200 , "
       ]
      },
      {
       "output_type": "stream",
       "stream": "stdout",
       "text": [
        "7300 , "
       ]
      },
      {
       "output_type": "stream",
       "stream": "stdout",
       "text": [
        "7400 , "
       ]
      },
      {
       "output_type": "stream",
       "stream": "stdout",
       "text": [
        "7500 , "
       ]
      },
      {
       "output_type": "stream",
       "stream": "stdout",
       "text": [
        "7600 , "
       ]
      },
      {
       "output_type": "stream",
       "stream": "stdout",
       "text": [
        "7700 , "
       ]
      },
      {
       "output_type": "stream",
       "stream": "stdout",
       "text": [
        "7800 , "
       ]
      },
      {
       "output_type": "stream",
       "stream": "stdout",
       "text": [
        "7900 , "
       ]
      },
      {
       "output_type": "stream",
       "stream": "stdout",
       "text": [
        "8000 , "
       ]
      },
      {
       "output_type": "stream",
       "stream": "stdout",
       "text": [
        "8100 , "
       ]
      },
      {
       "output_type": "stream",
       "stream": "stdout",
       "text": [
        "8200 , "
       ]
      },
      {
       "output_type": "stream",
       "stream": "stdout",
       "text": [
        "8300 , "
       ]
      },
      {
       "output_type": "stream",
       "stream": "stdout",
       "text": [
        "8400 , "
       ]
      },
      {
       "output_type": "stream",
       "stream": "stdout",
       "text": [
        "8500 , "
       ]
      },
      {
       "output_type": "stream",
       "stream": "stdout",
       "text": [
        "8600 , "
       ]
      },
      {
       "output_type": "stream",
       "stream": "stdout",
       "text": [
        "8700 , "
       ]
      },
      {
       "output_type": "stream",
       "stream": "stdout",
       "text": [
        "8800 , "
       ]
      },
      {
       "output_type": "stream",
       "stream": "stdout",
       "text": [
        "8900 , "
       ]
      },
      {
       "output_type": "stream",
       "stream": "stdout",
       "text": [
        "9000 , "
       ]
      },
      {
       "output_type": "stream",
       "stream": "stdout",
       "text": [
        "9100 , "
       ]
      },
      {
       "output_type": "stream",
       "stream": "stdout",
       "text": [
        "9200 , "
       ]
      },
      {
       "output_type": "stream",
       "stream": "stdout",
       "text": [
        "9300 , "
       ]
      },
      {
       "output_type": "stream",
       "stream": "stdout",
       "text": [
        "9400 , "
       ]
      },
      {
       "output_type": "stream",
       "stream": "stdout",
       "text": [
        "9500 , "
       ]
      },
      {
       "output_type": "stream",
       "stream": "stdout",
       "text": [
        "9600 , "
       ]
      },
      {
       "output_type": "stream",
       "stream": "stdout",
       "text": [
        "9700 , "
       ]
      },
      {
       "output_type": "stream",
       "stream": "stdout",
       "text": [
        "9800 , "
       ]
      },
      {
       "output_type": "stream",
       "stream": "stdout",
       "text": [
        "9900 , "
       ]
      },
      {
       "output_type": "stream",
       "stream": "stdout",
       "text": [
        "\n",
        "creating 1000000 byte block: 0.000043, writing 10000 blocks 34.860521\n",
        "file mean="
       ]
      },
      {
       "output_type": "stream",
       "stream": "stdout",
       "text": [
        " 0.000156734826565 file std= 0.000442018230113\n",
        "mem mean="
       ]
      },
      {
       "output_type": "stream",
       "stream": "stdout",
       "text": [
        " 3.4886598587e-06 mem std= 5.80817814409e-06\n"
       ]
      },
      {
       "metadata": {},
       "output_type": "display_data",
       "png": "[encoded data removed]",
       "text": [
        "<matplotlib.figure.Figure at 0x107f33810>"
       ]
      }
     ],
     "prompt_number": 12
    },
    {
     "cell_type": "code",
     "collapsed": false,
     "input": [
      "import time\n",
      "\n",
      "n=1000\n",
      "r=np.array(range(n))\n",
      "for m in [1,3,5,7,10,100,1000,10000,100000,1000000]:\n",
      "    t1=time.time()\n",
      "    A=np.repeat(r,m)\n",
      "    t2=time.time()\n",
      "    print \"array of length %d repeated %d times. total size=%6.3f MB, Time per element= %g\" % (n,m,float(n*m)/1000000,(t2-t1)/float(n*m))\n"
     ],
     "language": "python",
     "metadata": {},
     "outputs": [
      {
       "output_type": "stream",
       "stream": "stdout",
       "text": [
        "array of length 1000 repeated 1 times. total size= 0.001 MB, Time per element= 1.71661e-08\n",
        "array of length 1000 repeated 3 times. total size= 0.003 MB, Time per element= 6.99361e-09\n",
        "array of length 1000 repeated 5 times. total size= 0.005 MB, Time per element= 6.19888e-09\n",
        "array of length 1000 repeated 7 times. total size= 0.007 MB, Time per element= 6.4373e-09\n",
        "array of length 1000 repeated 10 times. total size= 0.010 MB, Time per element= 6.69956e-09\n",
        "array of length 1000 repeated 100 times. total size= 0.100 MB, Time per element= 5.13077e-09\n",
        "array of length 1000 repeated 1000 times. total size= 1.000 MB, Time per element= 4.82011e-09\n",
        "array of length 1000 repeated 10000 times. total size=10.000 MB, Time per element= 8.71201e-09"
       ]
      },
      {
       "output_type": "stream",
       "stream": "stdout",
       "text": [
        "\n",
        "array of length 1000 repeated 100000 times. total size=100.000 MB, Time per element= 8.14835e-09"
       ]
      },
      {
       "output_type": "stream",
       "stream": "stdout",
       "text": [
        "\n",
        "array of length 1000 repeated 1000000 times. total size=1000.000 MB, Time per element= 8.82815e-09"
       ]
      },
      {
       "output_type": "stream",
       "stream": "stdout",
       "text": [
        "\n"
       ]
      }
     ],
     "prompt_number": 3
    },
    {
     "cell_type": "code",
     "collapsed": false,
     "input": [
      "!hostname"
     ],
     "language": "python",
     "metadata": {},
     "outputs": [
      {
       "output_type": "stream",
       "stream": "stdout",
       "text": [
        "yoav-freunds-PowerBook-G4-retina.local\r\n"
       ]
      }
     ],
     "prompt_number": 83
    },
    {
     "cell_type": "code",
     "collapsed": false,
     "input": [
      "!cat /proc/cpuinfo"
     ],
     "language": "python",
     "metadata": {},
     "outputs": [
      {
       "output_type": "stream",
       "stream": "stdout",
       "text": [
        "cat: /proc/cpuinfo: No such file or directory\r\n"
       ]
      }
     ],
     "prompt_number": 85
    },
    {
     "cell_type": "code",
     "collapsed": false,
     "input": [
      "!iostat"
     ],
     "language": "python",
     "metadata": {},
     "outputs": [
      {
       "output_type": "stream",
       "stream": "stdout",
       "text": [
        "          disk0           disk1       cpu     load average\r\n",
        "    KB/t tps  MB/s     KB/t tps  MB/s  us sy id   1m   5m   15m\r\n",
        "   22.87  13  0.30   176.34   0  0.00   5  3 92  3.45 2.81 2.62\r\n"
       ]
      }
     ],
     "prompt_number": 6
    },
    {
     "cell_type": "code",
     "collapsed": false,
     "input": [
      "!system_profiler >system_profiler.out   # A profiling command for mac"
     ],
     "language": "python",
     "metadata": {},
     "outputs": [
      {
       "output_type": "stream",
       "stream": "stdout",
       "text": [
        "2014-04-20 18:03:47.588 system_profiler[81021:1103] There was an error parsing the Info.plist for the bundle at URL Contents/Info.plist -- /Library/Application Support/IOXperts/IOXperts Purchase.app\r\n",
        " The data couldn\u2019t be read because it isn\u2019t in the correct format.\r\n",
        " <CFBasicHash 0x7ff909e3cb20 [0x7fff70ee7f00]>{type = immutable dict, count = 2,\r\n",
        "entries =>\r\n",
        "\t0 : <CFString 0x7fff70ecae00 [0x7fff70ee7f00]>{contents = \"NSDebugDescription\"} = <CFString 0x7ff909e3d1a0 [0x7fff70ee7f00]>{contents = \"Close tag on line 29 does not match open tag dict\"}\r\n",
        "\t1 : <CFString 0x7fff70ecd3a0 [0x7fff70ee7f00]>{contents = \"kCFPropertyListOldStyleParsingError\"} = Error Domain=NSCocoaErrorDomain Code=3840 \"The data couldn\u2019t be read because it isn\u2019t in the correct format.\" (Malformed data byte group at line 1; invalid hex) UserInfo=0x7ff909e3cac0 {NSDebugDescription=Malformed data byte group at line 1; invalid hex}\r\n",
        "}\r\n"
       ]
      }
     ],
     "prompt_number": 7
    },
    {
     "cell_type": "code",
     "collapsed": false,
     "input": [
      "file=open('system_profiler.out','r')\n",
      "Print_flag=False\n",
      "for line in file.readlines():\n",
      "    if line.startswith('Hardware:'):\n",
      "        Print_flag=True\n",
      "    if Print_flag and line.startswith('Installations:'):\n",
      "        break\n",
      "    if Print_flag:\n",
      "        print line,\n",
      "        "
     ],
     "language": "python",
     "metadata": {},
     "outputs": [
      {
       "output_type": "stream",
       "stream": "stdout",
       "text": [
        "Hardware:\n",
        "\n",
        "    Hardware Overview:\n",
        "\n",
        "      Model Name: MacBook Pro\n",
        "      Model Identifier: MacBookPro10,1\n",
        "      Processor Name: Intel Core i7\n",
        "      Processor Speed: 2.7 GHz\n",
        "      Number of Processors: 1\n",
        "      Total Number of Cores: 4\n",
        "      L2 Cache (per Core): 256 KB\n",
        "      L3 Cache: 6 MB\n",
        "      Memory: 16 GB\n",
        "      Boot ROM Version: MBP101.00EE.B03\n",
        "      SMC Version (system): 2.3f36\n",
        "      Serial Number (system): C02L706RFFT1\n",
        "      Hardware UUID: 880C7D91-59BA-536E-AF59-EB9E37365C19\n",
        "\n"
       ]
      }
     ],
     "prompt_number": 8
    },
    {
     "cell_type": "markdown",
     "metadata": {},
     "source": [
      "### Some basic calculations ###\n",
      "In a  processor speed of 2.7GHz it takes $3.7 \\times 10^{-10}$ seconds per operation. In $10^{-6}$ sec each core can execute about 27,000 operations!  \n",
      "It is not an  exaggeration to say that most of the time the CPU waits to get data that it can operate on."
     ]
    },
    {
     "cell_type": "code",
     "collapsed": false,
     "input": [
      "import os,sys,time\n",
      "import numpy\n",
      "\n",
      "from IPython import parallel\n",
      "rc = parallel.Client()"
     ],
     "language": "python",
     "metadata": {},
     "outputs": [],
     "prompt_number": 2
    },
    {
     "cell_type": "code",
     "collapsed": false,
     "input": [
      "rc.ids"
     ],
     "language": "python",
     "metadata": {},
     "outputs": [
      {
       "metadata": {},
       "output_type": "pyout",
       "prompt_number": 3,
       "text": [
        "[0, 1, 2, 3]"
       ]
      }
     ],
     "prompt_number": 3
    },
    {
     "cell_type": "code",
     "collapsed": false,
     "input": [
      "e0 = rc[0] # index-access of a client gives us a DirectView\n",
      "e0.block = False # aynchronous\n",
      "e0"
     ],
     "language": "python",
     "metadata": {},
     "outputs": [
      {
       "metadata": {},
       "output_type": "pyout",
       "prompt_number": 5,
       "text": [
        "<DirectView 0>"
       ]
      }
     ],
     "prompt_number": 5
    },
    {
     "cell_type": "code",
     "collapsed": false,
     "input": [
      "e0.execute('mean,std,T = measureRandomAccess(100,filename='',k=1000)')"
     ],
     "language": "python",
     "metadata": {},
     "outputs": [
      {
       "metadata": {},
       "output_type": "pyout",
       "prompt_number": 6,
       "text": [
        "<AsyncResult: execute>"
       ]
      }
     ],
     "prompt_number": 6
    },
    {
     "cell_type": "code",
     "collapsed": false,
     "input": [
      "e0['T']"
     ],
     "language": "python",
     "metadata": {},
     "outputs": [
      {
       "ename": "RemoteError",
       "evalue": "NameError(name 'T' is not defined)",
       "output_type": "pyerr",
       "traceback": [
        "\u001b[0;31m---------------------------------------------------------------------------\u001b[0m",
        "\u001b[0;31mNameError\u001b[0m                                 Traceback (most recent call last)\u001b[0;32m<string>\u001b[0m in \u001b[0;36m<module>\u001b[0;34m()\u001b[0m",
        "\u001b[0;32m//anaconda/lib/python2.7/site-packages/ipython-2.0.0-py2.7.egg/IPython/parallel/util.py\u001b[0m in \u001b[0;36m_pull\u001b[0;34m(keys)\u001b[0m",
        "\u001b[1;32m    255\u001b[0m         \u001b[0;32mreturn\u001b[0m \u001b[0;34m[\u001b[0m\u001b[0meval\u001b[0m\u001b[0;34m(\u001b[0m\u001b[0mkey\u001b[0m\u001b[0;34m,\u001b[0m \u001b[0mglobals\u001b[0m\u001b[0;34m(\u001b[0m\u001b[0;34m)\u001b[0m\u001b[0;34m)\u001b[0m \u001b[0;32mfor\u001b[0m \u001b[0mkey\u001b[0m \u001b[0;32min\u001b[0m \u001b[0mkeys\u001b[0m\u001b[0;34m]\u001b[0m\u001b[0;34m\u001b[0m\u001b[0m",
        "\u001b[1;32m    256\u001b[0m     \u001b[0;32melse\u001b[0m\u001b[0;34m:\u001b[0m\u001b[0;34m\u001b[0m\u001b[0m",
        "\u001b[0;32m--> 257\u001b[0;31m         \u001b[0;32mreturn\u001b[0m \u001b[0meval\u001b[0m\u001b[0;34m(\u001b[0m\u001b[0mkeys\u001b[0m\u001b[0;34m,\u001b[0m \u001b[0mglobals\u001b[0m\u001b[0;34m(\u001b[0m\u001b[0;34m)\u001b[0m\u001b[0;34m)\u001b[0m\u001b[0;34m\u001b[0m\u001b[0m",
        "\u001b[0m\u001b[1;32m    258\u001b[0m \u001b[0;34m\u001b[0m\u001b[0m",
        "\u001b[1;32m    259\u001b[0m \u001b[0;34m@\u001b[0m\u001b[0minteractive\u001b[0m\u001b[0;34m\u001b[0m\u001b[0m",
        "\u001b[0;32m<string>\u001b[0m in \u001b[0;36m<module>\u001b[0;34m()\u001b[0m",
        "\u001b[0;31mNameError\u001b[0m: name 'T' is not defined"
       ]
      }
     ],
     "prompt_number": 9
    },
    {
     "cell_type": "code",
     "collapsed": false,
     "input": [],
     "language": "python",
     "metadata": {},
     "outputs": []
    }
   ],
   "metadata": {}
  }
 ]
}