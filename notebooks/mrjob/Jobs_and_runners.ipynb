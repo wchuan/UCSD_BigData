{
 "metadata": {
  "name": "",
  "signature": "sha256:7b7dfe713d88042b4f2262d243b6e854043f274161cddbe9312fd2b788ac9515"
 },
 "nbformat": 3,
 "nbformat_minor": 0,
 "worksheets": [
  {
   "cells": [
    {
     "cell_type": "code",
     "collapsed": false,
     "input": [
      "root_dir = '/home/ubuntu/packages/mrjob'\n",
      "examples_dir=root_dir+'/examples/'\n",
      "from mrjob.job import MRJob"
     ],
     "language": "python",
     "metadata": {},
     "outputs": [],
     "prompt_number": 7
    },
    {
     "cell_type": "code",
     "collapsed": false,
     "input": [
      "#This notebook should be run AFTER the notebook \"Simple use of mrjob\"\n",
      "%load mr_word_freq_count.py"
     ],
     "language": "python",
     "metadata": {},
     "outputs": [],
     "prompt_number": 4
    },
    {
     "cell_type": "heading",
     "level": 2,
     "metadata": {},
     "source": [
      "A demonstration of counters"
     ]
    },
    {
     "cell_type": "markdown",
     "metadata": {},
     "source": [
      "Counters are used to track the number of jobs of each type that have been executed."
     ]
    },
    {
     "cell_type": "code",
     "collapsed": false,
     "input": [
      "%%writefile mr_word_freq_counters.py\n",
      "#!/usr/bin/python\n",
      "# Copyright 2009-2010 Yelp\n",
      "#\n",
      "# Licensed under the Apache License, Version 2.0 (the \"License\");\n",
      "# you may not use this file except in compliance with the License.\n",
      "# You may obtain a copy of the License at\n",
      "#\n",
      "# http://www.apache.org/licenses/LICENSE-2.0\n",
      "#\n",
      "# Unless required by applicable law or agreed to in writing, software\n",
      "# distributed under the License is distributed on an \"AS IS\" BASIS,\n",
      "# WITHOUT WARRANTIES OR CONDITIONS OF ANY KIND, either express or implied.\n",
      "# See the License for the specific language governing permissions and\n",
      "# limitations under the License.\n",
      "\"\"\"The classic MapReduce job: count the frequency of words.\n",
      "\"\"\"\n",
      "from mrjob.job import MRJob\n",
      "import re\n",
      "from sys import stderr\n",
      "\n",
      "WORD_RE = re.compile(r\"[\\w']+\")\n",
      "\n",
      "#logfile=open('log','w')\n",
      "logfile=stderr\n",
      "\n",
      "class MRWordFreqCount(MRJob):\n",
      "\n",
      "    def mapper(self, _, line):\n",
      "        self.increment_counter('MrJob Counters','mapper',1)\n",
      "        for word in WORD_RE.findall(line):\n",
      "            #logfile.write('mapper '+word.lower()+'\\n')\n",
      "            yield (word.lower(), 1)\n",
      "\n",
      "    def combiner(self, word, counts):\n",
      "        self.increment_counter('MrJob Counters','combiner',1)\n",
      "        yield (word, sum(counts))\n",
      "        #l_counts=[c for c in counts]  # extract list from iterator\n",
      "        #S=sum(l_counts)\n",
      "        #logfile.write('combiner '+word+' ['+','.join([str(c) for c in l_counts])+']='+str(S)+'\\n')\n",
      "        #yield (word, S)\n",
      "\n",
      "    def reducer(self, word, counts):\n",
      "        self.increment_counter('MrJob Counters','reducer',1)\n",
      "        yield (word, sum(counts))\n",
      "        #l_counts=[c for c in counts]  # extract list from iterator\n",
      "        #S=sum(l_counts)\n",
      "        #logfile.write('reducer '+word+' ['+','.join([str(c) for c in l_counts])+']='+str(S)+'\\n')\n",
      "        #yield (word, S)\n",
      "\n",
      "if __name__ == '__main__':\n",
      "    MRWordFreqCount.run()"
     ],
     "language": "python",
     "metadata": {},
     "outputs": [
      {
       "output_type": "stream",
       "stream": "stdout",
       "text": [
        "Overwriting mr_word_freq_counters.py\n"
       ]
      }
     ],
     "prompt_number": 12
    },
    {
     "cell_type": "code",
     "collapsed": false,
     "input": [
      "!python mr_word_freq_counters.py $root_dir/README.rst > counts"
     ],
     "language": "python",
     "metadata": {},
     "outputs": [
      {
       "output_type": "stream",
       "stream": "stdout",
       "text": [
        "no configs found; falling back on auto-configuration\r\n",
        "no configs found; falling back on auto-configuration\r\n",
        "creating tmp directory /tmp/mr_word_freq_counters.ubuntu.20140507.180400.653399\r\n"
       ]
      },
      {
       "output_type": "stream",
       "stream": "stdout",
       "text": [
        "writing to /tmp/mr_word_freq_counters.ubuntu.20140507.180400.653399/step-0-mapper_part-00000\r\n"
       ]
      },
      {
       "output_type": "stream",
       "stream": "stdout",
       "text": [
        "Counters from step 1:\r\n",
        "  MrJob Counters:\r\n",
        "    combiner: 254\r\n",
        "    mapper: 139\r\n",
        "writing to /tmp/mr_word_freq_counters.ubuntu.20140507.180400.653399/step-0-mapper-sorted\r\n",
        "> sort /tmp/mr_word_freq_counters.ubuntu.20140507.180400.653399/step-0-mapper_part-00000\r\n"
       ]
      },
      {
       "output_type": "stream",
       "stream": "stdout",
       "text": [
        "writing to /tmp/mr_word_freq_counters.ubuntu.20140507.180400.653399/step-0-reducer_part-00000\r\n",
        "Counters from step 1:\r\n",
        "  MrJob Counters:\r\n",
        "    combiner: 254\r\n",
        "    mapper: 139\r\n",
        "    reducer: 254\r\n",
        "Moving /tmp/mr_word_freq_counters.ubuntu.20140507.180400.653399/step-0-reducer_part-00000 -> /tmp/mr_word_freq_counters.ubuntu.20140507.180400.653399/output/part-00000\r\n",
        "Streaming final output from /tmp/mr_word_freq_counters.ubuntu.20140507.180400.653399/output\r\n",
        "removing tmp directory /tmp/mr_word_freq_counters.ubuntu.20140507.180400.653399\r\n"
       ]
      }
     ],
     "prompt_number": 55
    },
    {
     "cell_type": "code",
     "collapsed": false,
     "input": [
      "!python mr_word_freq_counters.py --runner=local $root_dir/README.rst > counts"
     ],
     "language": "python",
     "metadata": {},
     "outputs": [
      {
       "output_type": "stream",
       "stream": "stdout",
       "text": [
        "no configs found; falling back on auto-configuration\r\n",
        "no configs found; falling back on auto-configuration\r\n",
        "creating tmp directory /tmp/mr_word_freq_counters.ubuntu.20140507.180411.446750\r\n"
       ]
      },
      {
       "output_type": "stream",
       "stream": "stdout",
       "text": [
        "writing to /tmp/mr_word_freq_counters.ubuntu.20140507.180411.446750/step-0-mapper_part-00000\r\n",
        "> /home/ubuntu/anaconda/bin/python mr_word_freq_counters.py --step-num=0 --mapper /tmp/mr_word_freq_counters.ubuntu.20140507.180411.446750/input_part-00000 | sort | /home/ubuntu/anaconda/bin/python mr_word_freq_counters.py --step-num=0 --combiner > /tmp/mr_word_freq_counters.ubuntu.20140507.180411.446750/step-0-mapper_part-00000\r\n"
       ]
      },
      {
       "output_type": "stream",
       "stream": "stdout",
       "text": [
        "writing to /tmp/mr_word_freq_counters.ubuntu.20140507.180411.446750/step-0-mapper_part-00001\r\n",
        "> /home/ubuntu/anaconda/bin/python mr_word_freq_counters.py --step-num=0 --mapper /tmp/mr_word_freq_counters.ubuntu.20140507.180411.446750/input_part-00001 | sort | /home/ubuntu/anaconda/bin/python mr_word_freq_counters.py --step-num=0 --combiner > /tmp/mr_word_freq_counters.ubuntu.20140507.180411.446750/step-0-mapper_part-00001\r\n"
       ]
      },
      {
       "output_type": "stream",
       "stream": "stdout",
       "text": [
        "Counters from step 1:\r\n",
        "  MrJob Counters:\r\n",
        "    combiner: 304\r\n",
        "    mapper: 139\r\n",
        "writing to /tmp/mr_word_freq_counters.ubuntu.20140507.180411.446750/step-0-mapper-sorted\r\n",
        "> sort /tmp/mr_word_freq_counters.ubuntu.20140507.180411.446750/step-0-mapper_part-00000 /tmp/mr_word_freq_counters.ubuntu.20140507.180411.446750/step-0-mapper_part-00001\r\n",
        "writing to /tmp/mr_word_freq_counters.ubuntu.20140507.180411.446750/step-0-reducer_part-00000\r\n",
        "> /home/ubuntu/anaconda/bin/python mr_word_freq_counters.py --step-num=0 --reducer /tmp/mr_word_freq_counters.ubuntu.20140507.180411.446750/input_part-00000 > /tmp/mr_word_freq_counters.ubuntu.20140507.180411.446750/step-0-reducer_part-00000\r\n"
       ]
      },
      {
       "output_type": "stream",
       "stream": "stdout",
       "text": [
        "writing to /tmp/mr_word_freq_counters.ubuntu.20140507.180411.446750/step-0-reducer_part-00001\r\n",
        "> /home/ubuntu/anaconda/bin/python mr_word_freq_counters.py --step-num=0 --reducer /tmp/mr_word_freq_counters.ubuntu.20140507.180411.446750/input_part-00001 > /tmp/mr_word_freq_counters.ubuntu.20140507.180411.446750/step-0-reducer_part-00001\r\n"
       ]
      },
      {
       "output_type": "stream",
       "stream": "stdout",
       "text": [
        "Counters from step 1:\r\n",
        "  MrJob Counters:\r\n",
        "    combiner: 304\r\n",
        "    mapper: 139\r\n",
        "    reducer: 254\r\n",
        "Moving /tmp/mr_word_freq_counters.ubuntu.20140507.180411.446750/step-0-reducer_part-00000 -> /tmp/mr_word_freq_counters.ubuntu.20140507.180411.446750/output/part-00000\r\n",
        "Moving /tmp/mr_word_freq_counters.ubuntu.20140507.180411.446750/step-0-reducer_part-00001 -> /tmp/mr_word_freq_counters.ubuntu.20140507.180411.446750/output/part-00001\r\n",
        "Streaming final output from /tmp/mr_word_freq_counters.ubuntu.20140507.180411.446750/output\r\n",
        "removing tmp directory /tmp/mr_word_freq_counters.ubuntu.20140507.180411.446750\r\n"
       ]
      }
     ],
     "prompt_number": 56
    },
    {
     "cell_type": "heading",
     "level": 2,
     "metadata": {},
     "source": [
      "Runners and job flows"
     ]
    },
    {
     "cell_type": "markdown",
     "metadata": {},
     "source": [
      "Runners run your job on a resource: **inline**,**local**,**Hadoop** or **EMR**\n",
      "\n",
      "By default, mrjob, when running with the option **-r emr**, will create a Cluster on EMR for the job, run the job, and then\n",
      "dismantle the cluster.\n",
      "\n",
      "As setting up a cluster can take a long time (hours), it is usually better to keep the hadoop cluster running and send to it additional jobs. From this perspective, an EMR cluster is called a **job flow**."
     ]
    },
    {
     "cell_type": "code",
     "collapsed": false,
     "input": [
      "from mrjob.emr import EMRJobRunner"
     ],
     "language": "python",
     "metadata": {},
     "outputs": [],
     "prompt_number": 57
    },
    {
     "cell_type": "code",
     "collapsed": false,
     "input": [
      "%cd ../../../Vault/\n",
      "!ls -l\n",
      "from AWSYoav_Freund import *\n",
      "%cd ../UCSD_BigData/notebooks/mrjob/"
     ],
     "language": "python",
     "metadata": {},
     "outputs": [
      {
       "output_type": "stream",
       "stream": "stdout",
       "text": [
        "/home/ubuntu/Vault\n",
        "total 12\r\n",
        "-rw-r--r-- 1 ubuntu ubuntu  597 May  7 18:51 AWSYoav_Freund.py\r\n",
        "-rw-r--r-- 1 ubuntu ubuntu  598 May  7 18:51 AWSYoav_Student.py\r\n",
        "-rw-r--r-- 1 ubuntu ubuntu 2686 May  7 18:51 mrjob.conf\r\n"
       ]
      },
      {
       "output_type": "stream",
       "stream": "stdout",
       "text": [
        "/home/ubuntu/UCSD_BigData/notebooks/mrjob\n"
       ]
      }
     ],
     "prompt_number": 72
    },
    {
     "cell_type": "code",
     "collapsed": false,
     "input": [
      "JobRunner = EMRJobRunner(aws_access_key_id=aws_access_key_id,aws_secret_access_key=aws_secret_access_key)"
     ],
     "language": "python",
     "metadata": {},
     "outputs": [],
     "prompt_number": 76
    },
    {
     "cell_type": "code",
     "collapsed": false,
     "input": [
      "emr_conn = JobRunner.make_emr_conn()"
     ],
     "language": "python",
     "metadata": {},
     "outputs": [],
     "prompt_number": 77
    },
    {
     "cell_type": "code",
     "collapsed": false,
     "input": [
      "job_flows=emr_conn.describe_jobflows()"
     ],
     "language": "python",
     "metadata": {},
     "outputs": [],
     "prompt_number": 78
    },
    {
     "cell_type": "code",
     "collapsed": false,
     "input": [
      "type(job_flows[0])"
     ],
     "language": "python",
     "metadata": {},
     "outputs": [
      {
       "metadata": {},
       "output_type": "pyout",
       "prompt_number": 79,
       "text": [
        "boto.emr.emrobject.JobFlow"
       ]
      }
     ],
     "prompt_number": 79
    },
    {
     "cell_type": "code",
     "collapsed": false,
     "input": [
      "for flow in job_flows:\n",
      "    print flow,flow.name,flow.jobflowid,flow.state"
     ],
     "language": "python",
     "metadata": {},
     "outputs": [
      {
       "output_type": "stream",
       "stream": "stdout",
       "text": [
        "<boto.emr.emrobject.JobFlow object at 0x44f9810> My cluster j-3MMGSXIO3FQR3 WAITING\n",
        "<boto.emr.emrobject.JobFlow object at 0x46bed90> mr_word_freq_count.yoavfreund.20140507.161040.869606 j-NXJGTL9EFM35 COMPLETED\n",
        "<boto.emr.emrobject.JobFlow object at 0x48643d0> A 6 node spot market cluster j-A0JHEG86PAGJ FAILED\n",
        "<boto.emr.emrobject.JobFlow object at 0x48645d0> A 6 node spot market cluster j-2M58Y9QSWOIFH FAILED\n",
        "<boto.emr.emrobject.JobFlow object at 0x4864910> A 6 node spot market cluster j-13O1ZEWJ0595Q FAILED\n",
        "<boto.emr.emrobject.JobFlow object at 0x4864c50> My Bigger Cluster j-1BCZIG7KD2S0K FAILED\n",
        "<boto.emr.emrobject.JobFlow object at 0x48590d0> My Bigger Cluster j-6ZU44Z9AXTQ3 FAILED\n",
        "<boto.emr.emrobject.JobFlow object at 0x48592d0> My Bigger Cluster j-2E4BUM0ADD3MX FAILED\n",
        "<boto.emr.emrobject.JobFlow object at 0x4859610> My Bigger Cluster j-19ZLC6D8RI1E4 TERMINATED\n",
        "<boto.emr.emrobject.JobFlow object at 0x4859910> My Bigger Cluster j-KZSDWFOETODE TERMINATED\n",
        "<boto.emr.emrobject.JobFlow object at 0x4859bd0> My Bigger Cluster j-2DP66KPYB7NHE TERMINATED\n"
       ]
      }
     ],
     "prompt_number": 80
    },
    {
     "cell_type": "code",
     "collapsed": false,
     "input": [
      "flow.jobflowid"
     ],
     "language": "python",
     "metadata": {},
     "outputs": [
      {
       "metadata": {},
       "output_type": "pyout",
       "prompt_number": 46,
       "text": [
        "u'j-LIUYBWD1UMN1'"
       ]
      }
     ],
     "prompt_number": 46
    },
    {
     "cell_type": "code",
     "collapsed": false,
     "input": [
      "!ls /home/ubuntu/Vault/"
     ],
     "language": "python",
     "metadata": {},
     "outputs": [],
     "prompt_number": 71
    },
    {
     "cell_type": "code",
     "collapsed": false,
     "input": [
      "1+1"
     ],
     "language": "python",
     "metadata": {},
     "outputs": [
      {
       "metadata": {},
       "output_type": "pyout",
       "prompt_number": 81,
       "text": [
        "2"
       ]
      }
     ],
     "prompt_number": 81
    },
    {
     "cell_type": "code",
     "collapsed": false,
     "input": [],
     "language": "python",
     "metadata": {},
     "outputs": []
    }
   ],
   "metadata": {}
  }
 ]
}